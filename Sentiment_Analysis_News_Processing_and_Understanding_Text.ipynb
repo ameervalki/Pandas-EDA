{
  "nbformat": 4,
  "nbformat_minor": 0,
  "metadata": {
    "anaconda-cloud": {},
    "kernelspec": {
      "display_name": "Python [conda root]",
      "language": "python",
      "name": "conda-root-py"
    },
    "language_info": {
      "codemirror_mode": {
        "name": "ipython",
        "version": 3
      },
      "file_extension": ".py",
      "mimetype": "text/x-python",
      "name": "python",
      "nbconvert_exporter": "python",
      "pygments_lexer": "ipython3",
      "version": "3.5.2"
    },
    "colab": {
      "name": "Sentiment Analysis News - Processing and Understanding Text.ipynb",
      "provenance": [],
      "collapsed_sections": [
        "YorzJNbBqz6x",
        "8rYDQXOSqz64",
        "i3xXEOHGqz6_",
        "7d5kbfcBqz7W",
        "hu--MqYwqz7g",
        "u9AI4p8kqz7x",
        "ZkAQE4koqz74",
        "36R2yHxrqz8T",
        "TTA7N-4Wqz9L",
        "ECACyRS4qz9Z",
        "wuWXzhPqqz9y",
        "-MeB4XbKqz-l"
      ],
      "include_colab_link": true
    }
  },
  "cells": [
    {
      "cell_type": "markdown",
      "metadata": {
        "id": "view-in-github",
        "colab_type": "text"
      },
      "source": [
        "<a href=\"https://colab.research.google.com/github/ameervalki/Pandas-EDA/blob/master/Sentiment_Analysis_News_Processing_and_Understanding_Text.ipynb\" target=\"_parent\"><img src=\"https://colab.research.google.com/assets/colab-badge.svg\" alt=\"Open In Colab\"/></a>"
      ]
    },
    {
      "cell_type": "markdown",
      "metadata": {
        "id": "RP_qmvFRqz4x",
        "colab_type": "text"
      },
      "source": [
        "# Data retrieval"
      ]
    },
    {
      "cell_type": "code",
      "metadata": {
        "id": "59uQ9WRZqz46",
        "colab_type": "code",
        "colab": {
          "base_uri": "https://localhost:8080/",
          "height": 74
        },
        "outputId": "50b2cf84-e65b-4499-fa87-57bb1ccb4bbc"
      },
      "source": [
        "import requests\n",
        "from bs4 import BeautifulSoup\n",
        "import pandas as pd\n",
        "import numpy as np\n",
        "import matplotlib.pyplot as plt\n",
        "import seaborn as sns\n",
        "import os\n",
        "\n",
        "%matplotlib inline"
      ],
      "execution_count": 1,
      "outputs": [
        {
          "output_type": "stream",
          "text": [
            "/usr/local/lib/python3.6/dist-packages/statsmodels/tools/_testing.py:19: FutureWarning: pandas.util.testing is deprecated. Use the functions in the public API at pandas.testing instead.\n",
            "  import pandas.util.testing as tm\n"
          ],
          "name": "stderr"
        }
      ]
    },
    {
      "cell_type": "code",
      "metadata": {
        "id": "I4IcOrM6qz5B",
        "colab_type": "code",
        "colab": {}
      },
      "source": [
        "seed_urls = ['https://inshorts.com/en/read/technology',\n",
        "             'https://inshorts.com/en/read/sports',\n",
        "             'https://inshorts.com/en/read/world']\n",
        "\n",
        "def build_dataset(seed_urls):\n",
        "    news_data = []\n",
        "    for url in seed_urls:\n",
        "        news_category = url.split('/')[-1]\n",
        "        data = requests.get(url)\n",
        "        soup = BeautifulSoup(data.content, 'html.parser')\n",
        "        \n",
        "        news_articles = [{'news_headline': headline.find('span', \n",
        "                                                         attrs={\"itemprop\": \"headline\"}).string,\n",
        "                          'news_article': article.find('div', \n",
        "                                                       attrs={\"itemprop\": \"articleBody\"}).string,\n",
        "                          'news_category': news_category}\n",
        "                         \n",
        "                            for headline, article in \n",
        "                             zip(soup.find_all('div', \n",
        "                                               class_=[\"news-card-title news-right-box\"]),\n",
        "                                 soup.find_all('div', \n",
        "                                               class_=[\"news-card-content news-right-box\"]))\n",
        "                        ]\n",
        "        news_data.extend(news_articles)\n",
        "        \n",
        "    df =  pd.DataFrame(news_data)\n",
        "    df = df[['news_headline', 'news_article', 'news_category']]\n",
        "    return df"
      ],
      "execution_count": 0,
      "outputs": []
    },
    {
      "cell_type": "code",
      "metadata": {
        "id": "EXdYFRF9qz5N",
        "colab_type": "code",
        "colab": {
          "base_uri": "https://localhost:8080/",
          "height": 348
        },
        "outputId": "bdf62e11-a8b7-4b38-91d9-5eb5d68973dd"
      },
      "source": [
        "news_df = build_dataset(seed_urls)\n",
        "news_df.head(10)"
      ],
      "execution_count": 3,
      "outputs": [
        {
          "output_type": "execute_result",
          "data": {
            "text/html": [
              "<div>\n",
              "<style scoped>\n",
              "    .dataframe tbody tr th:only-of-type {\n",
              "        vertical-align: middle;\n",
              "    }\n",
              "\n",
              "    .dataframe tbody tr th {\n",
              "        vertical-align: top;\n",
              "    }\n",
              "\n",
              "    .dataframe thead th {\n",
              "        text-align: right;\n",
              "    }\n",
              "</style>\n",
              "<table border=\"1\" class=\"dataframe\">\n",
              "  <thead>\n",
              "    <tr style=\"text-align: right;\">\n",
              "      <th></th>\n",
              "      <th>news_headline</th>\n",
              "      <th>news_article</th>\n",
              "      <th>news_category</th>\n",
              "    </tr>\n",
              "  </thead>\n",
              "  <tbody>\n",
              "    <tr>\n",
              "      <th>0</th>\n",
              "      <td>Uber to fire 3,700 employees worldwide, CEO no...</td>\n",
              "      <td>Ride-hailing company Uber on Wednesday said it...</td>\n",
              "      <td>technology</td>\n",
              "    </tr>\n",
              "    <tr>\n",
              "      <th>1</th>\n",
              "      <td>Airbnb fires 1,900 employees making 25% of its...</td>\n",
              "      <td>Airbnb, the US-based startup that connects tra...</td>\n",
              "      <td>technology</td>\n",
              "    </tr>\n",
              "    <tr>\n",
              "      <th>2</th>\n",
              "      <td>Grimes explains the name of her and Elon Musk'...</td>\n",
              "      <td>A day after Tesla CEO Elon Musk said his baby ...</td>\n",
              "      <td>technology</td>\n",
              "    </tr>\n",
              "    <tr>\n",
              "      <th>3</th>\n",
              "      <td>Amazon VP who quit over staff firings says Goo...</td>\n",
              "      <td>The Amazon VP who quit over the firm's decisio...</td>\n",
              "      <td>technology</td>\n",
              "    </tr>\n",
              "    <tr>\n",
              "      <th>4</th>\n",
              "      <td>Indians evacuated from abroad will have to dow...</td>\n",
              "      <td>Indians stranded abroad, who will be brought b...</td>\n",
              "      <td>technology</td>\n",
              "    </tr>\n",
              "    <tr>\n",
              "      <th>5</th>\n",
              "      <td>Wishing good vibes for all in second half 2020...</td>\n",
              "      <td>Tesla's billionaire CEO Elon Musk, who recentl...</td>\n",
              "      <td>technology</td>\n",
              "    </tr>\n",
              "    <tr>\n",
              "      <th>6</th>\n",
              "      <td>It's my fault: Samsung heir apologises over co...</td>\n",
              "      <td>Samsung Group heir Jay Y Lee has apologised fo...</td>\n",
              "      <td>technology</td>\n",
              "    </tr>\n",
              "    <tr>\n",
              "      <th>7</th>\n",
              "      <td>Billionaire Elon Musk qualifies for $706 milli...</td>\n",
              "      <td>Tesla CEO Elon Musk has qualified for stock op...</td>\n",
              "      <td>technology</td>\n",
              "    </tr>\n",
              "    <tr>\n",
              "      <th>8</th>\n",
              "      <td>French hacker says Aarogya Setu putting 'priva...</td>\n",
              "      <td>French hacker Robert Baptiste on Tuesday alert...</td>\n",
              "      <td>technology</td>\n",
              "    </tr>\n",
              "    <tr>\n",
              "      <th>9</th>\n",
              "      <td>Google India's website to inform people about ...</td>\n",
              "      <td>Google India launched a new website on Wednesd...</td>\n",
              "      <td>technology</td>\n",
              "    </tr>\n",
              "  </tbody>\n",
              "</table>\n",
              "</div>"
            ],
            "text/plain": [
              "                                       news_headline  ... news_category\n",
              "0  Uber to fire 3,700 employees worldwide, CEO no...  ...    technology\n",
              "1  Airbnb fires 1,900 employees making 25% of its...  ...    technology\n",
              "2  Grimes explains the name of her and Elon Musk'...  ...    technology\n",
              "3  Amazon VP who quit over staff firings says Goo...  ...    technology\n",
              "4  Indians evacuated from abroad will have to dow...  ...    technology\n",
              "5  Wishing good vibes for all in second half 2020...  ...    technology\n",
              "6  It's my fault: Samsung heir apologises over co...  ...    technology\n",
              "7  Billionaire Elon Musk qualifies for $706 milli...  ...    technology\n",
              "8  French hacker says Aarogya Setu putting 'priva...  ...    technology\n",
              "9  Google India's website to inform people about ...  ...    technology\n",
              "\n",
              "[10 rows x 3 columns]"
            ]
          },
          "metadata": {
            "tags": []
          },
          "execution_count": 3
        }
      ]
    },
    {
      "cell_type": "code",
      "metadata": {
        "id": "hjq6-ykFqz5j",
        "colab_type": "code",
        "colab": {
          "base_uri": "https://localhost:8080/",
          "height": 90
        },
        "outputId": "dbbddf11-f76a-4817-db96-80b350f703b7"
      },
      "source": [
        "news_df.news_category.value_counts()"
      ],
      "execution_count": 4,
      "outputs": [
        {
          "output_type": "execute_result",
          "data": {
            "text/plain": [
              "sports        25\n",
              "world         25\n",
              "technology    25\n",
              "Name: news_category, dtype: int64"
            ]
          },
          "metadata": {
            "tags": []
          },
          "execution_count": 4
        }
      ]
    },
    {
      "cell_type": "code",
      "metadata": {
        "id": "tpdtOqVBrgqM",
        "colab_type": "code",
        "colab": {
          "base_uri": "https://localhost:8080/",
          "height": 108
        },
        "outputId": "13282e7f-384d-46a8-f1a3-e81de63bf5af"
      },
      "source": [
        "!pip install nltk\n",
        "nltk.download('stopwords')"
      ],
      "execution_count": 9,
      "outputs": [
        {
          "output_type": "stream",
          "text": [
            "Requirement already satisfied: nltk in /usr/local/lib/python3.6/dist-packages (3.2.5)\n",
            "Requirement already satisfied: six in /usr/local/lib/python3.6/dist-packages (from nltk) (1.12.0)\n",
            "[nltk_data] Downloading package stopwords to /root/nltk_data...\n",
            "[nltk_data]   Unzipping corpora/stopwords.zip.\n"
          ],
          "name": "stdout"
        },
        {
          "output_type": "execute_result",
          "data": {
            "text/plain": [
              "True"
            ]
          },
          "metadata": {
            "tags": []
          },
          "execution_count": 9
        }
      ]
    },
    {
      "cell_type": "code",
      "metadata": {
        "id": "AT09xVresUps",
        "colab_type": "code",
        "colab": {
          "base_uri": "https://localhost:8080/",
          "height": 346
        },
        "outputId": "39666217-262d-4892-a00d-2c7ee83baa05"
      },
      "source": [
        "!pip install contractions"
      ],
      "execution_count": 16,
      "outputs": [
        {
          "output_type": "stream",
          "text": [
            "Collecting contractions\n",
            "  Downloading https://files.pythonhosted.org/packages/85/41/c3dfd5feb91a8d587ed1a59f553f07c05f95ad4e5d00ab78702fbf8fe48a/contractions-0.0.24-py2.py3-none-any.whl\n",
            "Collecting textsearch\n",
            "  Downloading https://files.pythonhosted.org/packages/42/a8/03407021f9555043de5492a2bd7a35c56cc03c2510092b5ec018cae1bbf1/textsearch-0.0.17-py2.py3-none-any.whl\n",
            "Collecting pyahocorasick\n",
            "\u001b[?25l  Downloading https://files.pythonhosted.org/packages/f4/9f/f0d8e8850e12829eea2e778f1c90e3c53a9a799b7f412082a5d21cd19ae1/pyahocorasick-1.4.0.tar.gz (312kB)\n",
            "\u001b[K     |████████████████████████████████| 317kB 3.6MB/s \n",
            "\u001b[?25hCollecting Unidecode\n",
            "\u001b[?25l  Downloading https://files.pythonhosted.org/packages/d0/42/d9edfed04228bacea2d824904cae367ee9efd05e6cce7ceaaedd0b0ad964/Unidecode-1.1.1-py2.py3-none-any.whl (238kB)\n",
            "\u001b[K     |████████████████████████████████| 245kB 15.7MB/s \n",
            "\u001b[?25hBuilding wheels for collected packages: pyahocorasick\n",
            "  Building wheel for pyahocorasick (setup.py) ... \u001b[?25l\u001b[?25hdone\n",
            "  Created wheel for pyahocorasick: filename=pyahocorasick-1.4.0-cp36-cp36m-linux_x86_64.whl size=81692 sha256=9a75cff2be92d0bcdcd7e0e47fe505209dd5bb81d24a065640e1e53be0040062\n",
            "  Stored in directory: /root/.cache/pip/wheels/0a/90/61/87a55f5b459792fbb2b7ba6b31721b06ff5cf6bde541b40994\n",
            "Successfully built pyahocorasick\n",
            "Installing collected packages: pyahocorasick, Unidecode, textsearch, contractions\n",
            "Successfully installed Unidecode-1.1.1 contractions-0.0.24 pyahocorasick-1.4.0 textsearch-0.0.17\n"
          ],
          "name": "stdout"
        }
      ]
    },
    {
      "cell_type": "markdown",
      "metadata": {
        "id": "PfJUme6hqz5s",
        "colab_type": "text"
      },
      "source": [
        "# Text Wrangling and Pre-processing"
      ]
    },
    {
      "cell_type": "code",
      "metadata": {
        "id": "IWNFRpZhqz6B",
        "colab_type": "code",
        "colab": {}
      },
      "source": [
        "\n",
        "import pandas as pd\n",
        "import numpy as np\n",
        "import nltk\n",
        "from nltk.tokenize.toktok import ToktokTokenizer\n",
        "import re\n",
        "from bs4 import BeautifulSoup\n",
        "import contractions\n",
        "import unicodedata\n",
        "\n",
        "\n",
        "tokenizer = ToktokTokenizer()\n",
        "stopword_list = nltk.corpus.stopwords.words('english')\n",
        "stopword_list.remove('no')\n",
        "stopword_list.remove('not')"
      ],
      "execution_count": 0,
      "outputs": []
    },
    {
      "cell_type": "markdown",
      "metadata": {
        "id": "8d6noHrjqz6M",
        "colab_type": "text"
      },
      "source": [
        "## Remove HTML tags"
      ]
    },
    {
      "cell_type": "code",
      "metadata": {
        "id": "l6WLjL6Uqz6O",
        "colab_type": "code",
        "colab": {
          "base_uri": "https://localhost:8080/",
          "height": 35
        },
        "outputId": "0a317533-15d1-4c6d-d9af-ba8f48120b90"
      },
      "source": [
        "def strip_html_tags(text):\n",
        "    soup = BeautifulSoup(text, \"html.parser\")\n",
        "    stripped_text = soup.get_text()\n",
        "    return stripped_text\n",
        "\n",
        "strip_html_tags('<html><h2>Some important text</h2></html>')"
      ],
      "execution_count": 11,
      "outputs": [
        {
          "output_type": "execute_result",
          "data": {
            "text/plain": [
              "'Some important text'"
            ]
          },
          "metadata": {
            "tags": []
          },
          "execution_count": 11
        }
      ]
    },
    {
      "cell_type": "markdown",
      "metadata": {
        "id": "KY7uTJPHqz6V",
        "colab_type": "text"
      },
      "source": [
        "## Remove accented characters"
      ]
    },
    {
      "cell_type": "code",
      "metadata": {
        "id": "9w50v-O7qz6Z",
        "colab_type": "code",
        "colab": {
          "base_uri": "https://localhost:8080/",
          "height": 35
        },
        "outputId": "29d9acf6-9202-408f-c812-1df5cb1738a8"
      },
      "source": [
        "def remove_accented_chars(text):\n",
        "    text = unicodedata.normalize('NFKD', text).encode('ascii', 'ignore').decode('utf-8', 'ignore')\n",
        "    return text\n",
        "\n",
        "remove_accented_chars('Sómě Áccěntěd těxt')"
      ],
      "execution_count": 14,
      "outputs": [
        {
          "output_type": "execute_result",
          "data": {
            "text/plain": [
              "'Some Accented text'"
            ]
          },
          "metadata": {
            "tags": []
          },
          "execution_count": 14
        }
      ]
    },
    {
      "cell_type": "markdown",
      "metadata": {
        "id": "5DnaIjMqqz6g",
        "colab_type": "text"
      },
      "source": [
        "## Expand contractions"
      ]
    },
    {
      "cell_type": "code",
      "metadata": {
        "id": "O9vmAFIGqz6h",
        "colab_type": "code",
        "colab": {
          "base_uri": "https://localhost:8080/",
          "height": 35
        },
        "outputId": "7daef7cf-70f2-4fd7-9c05-536057e2bb0e"
      },
      "source": [
        "import contractions\n",
        "def expand_contractions(text):\n",
        "    \n",
        "    \n",
        "        \n",
        "    expanded_text = contractions.fix(text)\n",
        "    return expanded_text\n",
        "\n",
        "expand_contractions(\"Y'all can't expand contractions I'd think\")"
      ],
      "execution_count": 22,
      "outputs": [
        {
          "output_type": "execute_result",
          "data": {
            "text/plain": [
              "'you all can not expand contractions I would think'"
            ]
          },
          "metadata": {
            "tags": []
          },
          "execution_count": 22
        }
      ]
    },
    {
      "cell_type": "markdown",
      "metadata": {
        "id": "Hv2hI1lHqz6o",
        "colab_type": "text"
      },
      "source": [
        "## Remove special characters"
      ]
    },
    {
      "cell_type": "code",
      "metadata": {
        "id": "fyd41BiDqz6q",
        "colab_type": "code",
        "colab": {
          "base_uri": "https://localhost:8080/",
          "height": 35
        },
        "outputId": "8f80468d-a3ba-465f-bb23-044b0e533b0d"
      },
      "source": [
        "def remove_special_characters(text, remove_digits=False):\n",
        "    pattern = r'[^a-zA-z0-9\\s]' if not remove_digits else r'[^a-zA-z\\s]'\n",
        "    text = re.sub(pattern, '', text)\n",
        "    return text\n",
        "\n",
        "remove_special_characters(\"Well this was fun! What do you think? 123#@!\", \n",
        "                          remove_digits=True)"
      ],
      "execution_count": 23,
      "outputs": [
        {
          "output_type": "execute_result",
          "data": {
            "text/plain": [
              "'Well this was fun What do you think '"
            ]
          },
          "metadata": {
            "tags": []
          },
          "execution_count": 23
        }
      ]
    },
    {
      "cell_type": "markdown",
      "metadata": {
        "id": "YorzJNbBqz6x",
        "colab_type": "text"
      },
      "source": [
        "## Text lemmatization"
      ]
    },
    {
      "cell_type": "code",
      "metadata": {
        "id": "XfR7PWfeqz6z",
        "colab_type": "code",
        "colab": {
          "base_uri": "https://localhost:8080/",
          "height": 35
        },
        "outputId": "50d2bacf-76a3-4d74-da72-ddb008a66fca"
      },
      "source": [
        "import spacy\n",
        "nlp = spacy.load('en_core_web_sm', parse = True, tag=True, entity=True)\n",
        "\n",
        "\n",
        "def lemmatize_text(text):\n",
        "    text = nlp(text)\n",
        "    text = ' '.join([word.lemma_ if word.lemma_ != '-PRON-' else word.text for word in text])\n",
        "    return text\n",
        "\n",
        "lemmatize_text(\"My system keeps crashing! his crashed yesterday, ours crashes daily\")"
      ],
      "execution_count": 37,
      "outputs": [
        {
          "output_type": "execute_result",
          "data": {
            "text/plain": [
              "'My system keep crash ! his crash yesterday , ours crash daily'"
            ]
          },
          "metadata": {
            "tags": []
          },
          "execution_count": 37
        }
      ]
    },
    {
      "cell_type": "markdown",
      "metadata": {
        "id": "8rYDQXOSqz64",
        "colab_type": "text"
      },
      "source": [
        "## Text stemming"
      ]
    },
    {
      "cell_type": "code",
      "metadata": {
        "id": "MGRH58XBqz66",
        "colab_type": "code",
        "colab": {
          "base_uri": "https://localhost:8080/",
          "height": 35
        },
        "outputId": "28fece04-2397-45a0-990c-041471c2bd30"
      },
      "source": [
        "def simple_stemmer(text):\n",
        "    ps = nltk.porter.PorterStemmer()\n",
        "    text = ' '.join([ps.stem(word) for word in text.split()])\n",
        "    return text\n",
        "\n",
        "simple_stemmer(\"My system keeps crashing his crashed yesterday, ours crashes daily\")"
      ],
      "execution_count": 26,
      "outputs": [
        {
          "output_type": "execute_result",
          "data": {
            "text/plain": [
              "'My system keep crash hi crash yesterday, our crash daili'"
            ]
          },
          "metadata": {
            "tags": []
          },
          "execution_count": 26
        }
      ]
    },
    {
      "cell_type": "markdown",
      "metadata": {
        "id": "i3xXEOHGqz6_",
        "colab_type": "text"
      },
      "source": [
        "## Remove stopwords"
      ]
    },
    {
      "cell_type": "code",
      "metadata": {
        "id": "s1nELYTZqz7B",
        "colab_type": "code",
        "colab": {
          "base_uri": "https://localhost:8080/",
          "height": 35
        },
        "outputId": "2fb4a759-cb1c-4bc8-8f22-58255e81f751"
      },
      "source": [
        "def remove_stopwords(text, is_lower_case=False):\n",
        "    tokens = tokenizer.tokenize(text)\n",
        "    tokens = [token.strip() for token in tokens]\n",
        "    if is_lower_case:\n",
        "        filtered_tokens = [token for token in tokens if token not in stopword_list]\n",
        "    else:\n",
        "        filtered_tokens = [token for token in tokens if token.lower() not in stopword_list]\n",
        "    filtered_text = ' '.join(filtered_tokens)    \n",
        "    return filtered_text\n",
        "\n",
        "remove_stopwords(\"The, and, if are stopwords, computer is not\")"
      ],
      "execution_count": 27,
      "outputs": [
        {
          "output_type": "execute_result",
          "data": {
            "text/plain": [
              "', , stopwords , computer not'"
            ]
          },
          "metadata": {
            "tags": []
          },
          "execution_count": 27
        }
      ]
    },
    {
      "cell_type": "markdown",
      "metadata": {
        "id": "7d5kbfcBqz7W",
        "colab_type": "text"
      },
      "source": [
        "## Building a text normalizer"
      ]
    },
    {
      "cell_type": "code",
      "metadata": {
        "id": "4G_1jotgqz7X",
        "colab_type": "code",
        "colab": {}
      },
      "source": [
        "def normalize_corpus(corpus, html_stripping=True, contraction_expansion=True,\n",
        "                     accented_char_removal=True, text_lower_case=True, \n",
        "                     text_lemmatization=True, special_char_removal=True, \n",
        "                     stopword_removal=True, remove_digits=True):\n",
        "    \n",
        "    normalized_corpus = []\n",
        "    # normalize each document in the corpus\n",
        "    for doc in corpus:\n",
        "        # strip HTML\n",
        "        if html_stripping:\n",
        "            doc = strip_html_tags(doc)\n",
        "        # remove accented characters\n",
        "        if accented_char_removal:\n",
        "            doc = remove_accented_chars(doc)\n",
        "        # expand contractions    \n",
        "        if contraction_expansion:\n",
        "            doc = expand_contractions(doc)\n",
        "        # lowercase the text    \n",
        "        if text_lower_case:\n",
        "            doc = doc.lower()\n",
        "        # remove extra newlines\n",
        "        doc = re.sub(r'[\\r|\\n|\\r\\n]+', ' ',doc)\n",
        "        # lemmatize text\n",
        "        if text_lemmatization:\n",
        "            doc = lemmatize_text(doc)\n",
        "        # remove special characters and\\or digits    \n",
        "        if special_char_removal:\n",
        "            # insert spaces between special characters to isolate them    \n",
        "            special_char_pattern = re.compile(r'([{.(-)!}])')\n",
        "            doc = special_char_pattern.sub(\" \\\\1 \", doc)\n",
        "            doc = remove_special_characters(doc, remove_digits=remove_digits)  \n",
        "        # remove extra whitespace\n",
        "        doc = re.sub(' +', ' ', doc)\n",
        "        # remove stopwords\n",
        "        if stopword_removal:\n",
        "            doc = remove_stopwords(doc, is_lower_case=text_lower_case)\n",
        "            \n",
        "        normalized_corpus.append(doc)\n",
        "        \n",
        "    return normalized_corpus"
      ],
      "execution_count": 0,
      "outputs": []
    },
    {
      "cell_type": "markdown",
      "metadata": {
        "id": "hu--MqYwqz7g",
        "colab_type": "text"
      },
      "source": [
        "## Pre-process and normalize news articles"
      ]
    },
    {
      "cell_type": "code",
      "metadata": {
        "id": "iQJFXxMVqz7i",
        "colab_type": "code",
        "colab": {}
      },
      "source": [
        "news_df['full_text'] = news_df[\"news_headline\"].map(str)+ '. ' + news_df[\"news_article\"]"
      ],
      "execution_count": 0,
      "outputs": []
    },
    {
      "cell_type": "code",
      "metadata": {
        "id": "9PxEdAXAqz7n",
        "colab_type": "code",
        "colab": {
          "base_uri": "https://localhost:8080/",
          "height": 74
        },
        "outputId": "41a60cd8-4bb8-469e-f667-1fc9deed4e24"
      },
      "source": [
        "news_df['clean_text'] = normalize_corpus(news_df['full_text'])\n",
        "norm_corpus = list(news_df['clean_text'])\n",
        "news_df.iloc[1][['full_text', 'clean_text']].to_dict()"
      ],
      "execution_count": 41,
      "outputs": [
        {
          "output_type": "execute_result",
          "data": {
            "text/plain": [
              "{'clean_text': 'airbnb fire employee make global workforce airbnb us base startup connect traveller place stay fire employee comprise around global workforce employee note employee co founder ceo brian chesky call coronavirus pandemic harrowing crisis lifetime truly sorry please know not fault chesky tell fire employee',\n",
              " 'full_text': 'Airbnb fires 1,900 employees making 25% of its global workforce. Airbnb, the US-based startup that connects travellers with places to stay, is firing 1,900 employees comprising around 25% of its global workforce of 7,500 employees. In a note to employees, Co-founder and CEO Brian Chesky called coronavirus pandemic \"the most harrowing crisis of our lifetime\". \"I am truly sorry. Please know this is not your fault,\" Chesky told fired employees.'}"
            ]
          },
          "metadata": {
            "tags": []
          },
          "execution_count": 41
        }
      ]
    },
    {
      "cell_type": "markdown",
      "metadata": {
        "id": "u9AI4p8kqz7x",
        "colab_type": "text"
      },
      "source": [
        "# Save the news articles"
      ]
    },
    {
      "cell_type": "code",
      "metadata": {
        "id": "bUCNWYNSqz7y",
        "colab_type": "code",
        "colab": {}
      },
      "source": [
        "news_df.to_csv('news.csv', index=False, encoding='utf-8')"
      ],
      "execution_count": 0,
      "outputs": []
    },
    {
      "cell_type": "markdown",
      "metadata": {
        "id": "ZkAQE4koqz74",
        "colab_type": "text"
      },
      "source": [
        "# Tagging Parts of Speech"
      ]
    },
    {
      "cell_type": "code",
      "metadata": {
        "id": "MbOgQ4Psqz75",
        "colab_type": "code",
        "colab": {
          "base_uri": "https://localhost:8080/",
          "height": 580
        },
        "outputId": "82ec8bf7-16e7-41a7-85f9-ccb5dc647972"
      },
      "source": [
        "news_df = pd.read_csv('news.csv')\n",
        "news_df"
      ],
      "execution_count": 80,
      "outputs": [
        {
          "output_type": "execute_result",
          "data": {
            "text/html": [
              "<div>\n",
              "<style scoped>\n",
              "    .dataframe tbody tr th:only-of-type {\n",
              "        vertical-align: middle;\n",
              "    }\n",
              "\n",
              "    .dataframe tbody tr th {\n",
              "        vertical-align: top;\n",
              "    }\n",
              "\n",
              "    .dataframe thead th {\n",
              "        text-align: right;\n",
              "    }\n",
              "</style>\n",
              "<table border=\"1\" class=\"dataframe\">\n",
              "  <thead>\n",
              "    <tr style=\"text-align: right;\">\n",
              "      <th></th>\n",
              "      <th>news_headline</th>\n",
              "      <th>news_article</th>\n",
              "      <th>news_category</th>\n",
              "      <th>full_text</th>\n",
              "      <th>clean_text</th>\n",
              "    </tr>\n",
              "  </thead>\n",
              "  <tbody>\n",
              "    <tr>\n",
              "      <th>0</th>\n",
              "      <td>Uber to fire 3,700 employees worldwide, CEO no...</td>\n",
              "      <td>Ride-hailing company Uber on Wednesday said it...</td>\n",
              "      <td>technology</td>\n",
              "      <td>Uber to fire 3,700 employees worldwide, CEO no...</td>\n",
              "      <td>uber fire employee worldwide ceo not take base...</td>\n",
              "    </tr>\n",
              "    <tr>\n",
              "      <th>1</th>\n",
              "      <td>Airbnb fires 1,900 employees making 25% of its...</td>\n",
              "      <td>Airbnb, the US-based startup that connects tra...</td>\n",
              "      <td>technology</td>\n",
              "      <td>Airbnb fires 1,900 employees making 25% of its...</td>\n",
              "      <td>airbnb fire employee make global workforce air...</td>\n",
              "    </tr>\n",
              "    <tr>\n",
              "      <th>2</th>\n",
              "      <td>Grimes explains the name of her and Elon Musk'...</td>\n",
              "      <td>A day after Tesla CEO Elon Musk said his baby ...</td>\n",
              "      <td>technology</td>\n",
              "      <td>Grimes explains the name of her and Elon Musk'...</td>\n",
              "      <td>grime explain name elon musk first child x day...</td>\n",
              "    </tr>\n",
              "    <tr>\n",
              "      <th>3</th>\n",
              "      <td>Amazon VP who quit over staff firings says Goo...</td>\n",
              "      <td>The Amazon VP who quit over the firm's decisio...</td>\n",
              "      <td>technology</td>\n",
              "      <td>Amazon VP who quit over staff firings says Goo...</td>\n",
              "      <td>amazon vp quit staff firing say google huawei ...</td>\n",
              "    </tr>\n",
              "    <tr>\n",
              "      <th>4</th>\n",
              "      <td>Indians evacuated from abroad will have to dow...</td>\n",
              "      <td>Indians stranded abroad, who will be brought b...</td>\n",
              "      <td>technology</td>\n",
              "      <td>Indians evacuated from abroad will have to dow...</td>\n",
              "      <td>indians evacuate abroad download aarogya setu ...</td>\n",
              "    </tr>\n",
              "    <tr>\n",
              "      <th>...</th>\n",
              "      <td>...</td>\n",
              "      <td>...</td>\n",
              "      <td>...</td>\n",
              "      <td>...</td>\n",
              "      <td>...</td>\n",
              "    </tr>\n",
              "    <tr>\n",
              "      <th>70</th>\n",
              "      <td>Hong Kong will never be calm unless violent pr...</td>\n",
              "      <td>China's Hong Kong affairs office on Wednesday ...</td>\n",
              "      <td>world</td>\n",
              "      <td>Hong Kong will never be calm unless violent pr...</td>\n",
              "      <td>hong kong never calm unless violent protester ...</td>\n",
              "    </tr>\n",
              "    <tr>\n",
              "      <th>71</th>\n",
              "      <td>Skies in Niger's capital turn red during sand ...</td>\n",
              "      <td>Skies in Niamey, the capital city of Niger, tu...</td>\n",
              "      <td>world</td>\n",
              "      <td>Skies in Niger's capital turn red during sand ...</td>\n",
              "      <td>sky niger capital turn red sand storm video su...</td>\n",
              "    </tr>\n",
              "    <tr>\n",
              "      <th>72</th>\n",
              "      <td>Afghan forces deactivate joint ISIS and Haqqan...</td>\n",
              "      <td>Afghanistan's intelligence agency, National Di...</td>\n",
              "      <td>world</td>\n",
              "      <td>Afghan forces deactivate joint ISIS and Haqqan...</td>\n",
              "      <td>afghan force deactivate joint isis haqqani net...</td>\n",
              "    </tr>\n",
              "    <tr>\n",
              "      <th>73</th>\n",
              "      <td>Trump made 'stupid mistake' by exiting from nu...</td>\n",
              "      <td>US President Donald Trump \"made a stupid mista...</td>\n",
              "      <td>world</td>\n",
              "      <td>Trump made 'stupid mistake' by exiting from nu...</td>\n",
              "      <td>trump make stupid mistake exit nuclear deal ro...</td>\n",
              "    </tr>\n",
              "    <tr>\n",
              "      <th>74</th>\n",
              "      <td>3 rockets hit near Baghdad International Airpo...</td>\n",
              "      <td>Three rockets on Wednesday landed on the perim...</td>\n",
              "      <td>world</td>\n",
              "      <td>3 rockets hit near Baghdad International Airpo...</td>\n",
              "      <td>rocket hit near baghdad international airport ...</td>\n",
              "    </tr>\n",
              "  </tbody>\n",
              "</table>\n",
              "<p>75 rows × 5 columns</p>\n",
              "</div>"
            ],
            "text/plain": [
              "                                        news_headline  ...                                         clean_text\n",
              "0   Uber to fire 3,700 employees worldwide, CEO no...  ...  uber fire employee worldwide ceo not take base...\n",
              "1   Airbnb fires 1,900 employees making 25% of its...  ...  airbnb fire employee make global workforce air...\n",
              "2   Grimes explains the name of her and Elon Musk'...  ...  grime explain name elon musk first child x day...\n",
              "3   Amazon VP who quit over staff firings says Goo...  ...  amazon vp quit staff firing say google huawei ...\n",
              "4   Indians evacuated from abroad will have to dow...  ...  indians evacuate abroad download aarogya setu ...\n",
              "..                                                ...  ...                                                ...\n",
              "70  Hong Kong will never be calm unless violent pr...  ...  hong kong never calm unless violent protester ...\n",
              "71  Skies in Niger's capital turn red during sand ...  ...  sky niger capital turn red sand storm video su...\n",
              "72  Afghan forces deactivate joint ISIS and Haqqan...  ...  afghan force deactivate joint isis haqqani net...\n",
              "73  Trump made 'stupid mistake' by exiting from nu...  ...  trump make stupid mistake exit nuclear deal ro...\n",
              "74  3 rockets hit near Baghdad International Airpo...  ...  rocket hit near baghdad international airport ...\n",
              "\n",
              "[75 rows x 5 columns]"
            ]
          },
          "metadata": {
            "tags": []
          },
          "execution_count": 80
        }
      ]
    },
    {
      "cell_type": "code",
      "metadata": {
        "id": "zesWrpcgwL-_",
        "colab_type": "code",
        "colab": {}
      },
      "source": [
        "news_df = news_df.drop(columns = ['news_headline','full_text'])\n"
      ],
      "execution_count": 0,
      "outputs": []
    },
    {
      "cell_type": "code",
      "metadata": {
        "id": "ykld-3sexCyt",
        "colab_type": "code",
        "colab": {
          "base_uri": "https://localhost:8080/",
          "height": 407
        },
        "outputId": "275c55e1-b72e-457b-9ac8-894bb3871687"
      },
      "source": [
        "news_df"
      ],
      "execution_count": 82,
      "outputs": [
        {
          "output_type": "execute_result",
          "data": {
            "text/html": [
              "<div>\n",
              "<style scoped>\n",
              "    .dataframe tbody tr th:only-of-type {\n",
              "        vertical-align: middle;\n",
              "    }\n",
              "\n",
              "    .dataframe tbody tr th {\n",
              "        vertical-align: top;\n",
              "    }\n",
              "\n",
              "    .dataframe thead th {\n",
              "        text-align: right;\n",
              "    }\n",
              "</style>\n",
              "<table border=\"1\" class=\"dataframe\">\n",
              "  <thead>\n",
              "    <tr style=\"text-align: right;\">\n",
              "      <th></th>\n",
              "      <th>news_article</th>\n",
              "      <th>news_category</th>\n",
              "      <th>clean_text</th>\n",
              "    </tr>\n",
              "  </thead>\n",
              "  <tbody>\n",
              "    <tr>\n",
              "      <th>0</th>\n",
              "      <td>Ride-hailing company Uber on Wednesday said it...</td>\n",
              "      <td>technology</td>\n",
              "      <td>uber fire employee worldwide ceo not take base...</td>\n",
              "    </tr>\n",
              "    <tr>\n",
              "      <th>1</th>\n",
              "      <td>Airbnb, the US-based startup that connects tra...</td>\n",
              "      <td>technology</td>\n",
              "      <td>airbnb fire employee make global workforce air...</td>\n",
              "    </tr>\n",
              "    <tr>\n",
              "      <th>2</th>\n",
              "      <td>A day after Tesla CEO Elon Musk said his baby ...</td>\n",
              "      <td>technology</td>\n",
              "      <td>grime explain name elon musk first child x day...</td>\n",
              "    </tr>\n",
              "    <tr>\n",
              "      <th>3</th>\n",
              "      <td>The Amazon VP who quit over the firm's decisio...</td>\n",
              "      <td>technology</td>\n",
              "      <td>amazon vp quit staff firing say google huawei ...</td>\n",
              "    </tr>\n",
              "    <tr>\n",
              "      <th>4</th>\n",
              "      <td>Indians stranded abroad, who will be brought b...</td>\n",
              "      <td>technology</td>\n",
              "      <td>indians evacuate abroad download aarogya setu ...</td>\n",
              "    </tr>\n",
              "    <tr>\n",
              "      <th>...</th>\n",
              "      <td>...</td>\n",
              "      <td>...</td>\n",
              "      <td>...</td>\n",
              "    </tr>\n",
              "    <tr>\n",
              "      <th>70</th>\n",
              "      <td>China's Hong Kong affairs office on Wednesday ...</td>\n",
              "      <td>world</td>\n",
              "      <td>hong kong never calm unless violent protester ...</td>\n",
              "    </tr>\n",
              "    <tr>\n",
              "      <th>71</th>\n",
              "      <td>Skies in Niamey, the capital city of Niger, tu...</td>\n",
              "      <td>world</td>\n",
              "      <td>sky niger capital turn red sand storm video su...</td>\n",
              "    </tr>\n",
              "    <tr>\n",
              "      <th>72</th>\n",
              "      <td>Afghanistan's intelligence agency, National Di...</td>\n",
              "      <td>world</td>\n",
              "      <td>afghan force deactivate joint isis haqqani net...</td>\n",
              "    </tr>\n",
              "    <tr>\n",
              "      <th>73</th>\n",
              "      <td>US President Donald Trump \"made a stupid mista...</td>\n",
              "      <td>world</td>\n",
              "      <td>trump make stupid mistake exit nuclear deal ro...</td>\n",
              "    </tr>\n",
              "    <tr>\n",
              "      <th>74</th>\n",
              "      <td>Three rockets on Wednesday landed on the perim...</td>\n",
              "      <td>world</td>\n",
              "      <td>rocket hit near baghdad international airport ...</td>\n",
              "    </tr>\n",
              "  </tbody>\n",
              "</table>\n",
              "<p>75 rows × 3 columns</p>\n",
              "</div>"
            ],
            "text/plain": [
              "                                         news_article  ...                                         clean_text\n",
              "0   Ride-hailing company Uber on Wednesday said it...  ...  uber fire employee worldwide ceo not take base...\n",
              "1   Airbnb, the US-based startup that connects tra...  ...  airbnb fire employee make global workforce air...\n",
              "2   A day after Tesla CEO Elon Musk said his baby ...  ...  grime explain name elon musk first child x day...\n",
              "3   The Amazon VP who quit over the firm's decisio...  ...  amazon vp quit staff firing say google huawei ...\n",
              "4   Indians stranded abroad, who will be brought b...  ...  indians evacuate abroad download aarogya setu ...\n",
              "..                                                ...  ...                                                ...\n",
              "70  China's Hong Kong affairs office on Wednesday ...  ...  hong kong never calm unless violent protester ...\n",
              "71  Skies in Niamey, the capital city of Niger, tu...  ...  sky niger capital turn red sand storm video su...\n",
              "72  Afghanistan's intelligence agency, National Di...  ...  afghan force deactivate joint isis haqqani net...\n",
              "73  US President Donald Trump \"made a stupid mista...  ...  trump make stupid mistake exit nuclear deal ro...\n",
              "74  Three rockets on Wednesday landed on the perim...  ...  rocket hit near baghdad international airport ...\n",
              "\n",
              "[75 rows x 3 columns]"
            ]
          },
          "metadata": {
            "tags": []
          },
          "execution_count": 82
        }
      ]
    },
    {
      "cell_type": "code",
      "metadata": {
        "id": "zAOy3tW6xF92",
        "colab_type": "code",
        "colab": {
          "base_uri": "https://localhost:8080/",
          "height": 1000
        },
        "outputId": "0650697c-cda0-4bec-fd9a-b56ee80ec051"
      },
      "source": [
        "corpus = news_df.iloc[:,2].values\n",
        "corpus"
      ],
      "execution_count": 84,
      "outputs": [
        {
          "output_type": "execute_result",
          "data": {
            "text/plain": [
              "array(['uber fire employee worldwide ceo not take base salary ride hail company uber wednesday say fire full time employee worldwide comprise around company total workforce uber ceo dara khosrowshahi make million base salary waive base salary remain year uber estimate incur approximately million relate severance termination benefit',\n",
              "       'airbnb fire employee make global workforce airbnb us base startup connect traveller place stay fire employee comprise around global workforce employee note employee co founder ceo brian chesky call coronavirus pandemic harrowing crisis lifetime truly sorry please know not fault chesky tell fire employee',\n",
              "       'grime explain name elon musk first child x day tesla ceo elon musk say baby boy call x musk girlfriend grime tweet explain meaning newborn name x refer unknown variable elven spelling ai love artificial intelligence say precursor sr sr favourite aircraft add',\n",
              "       'amazon vp quit staff firing say google huawei contact amazon vp quit firm decision fire employee complain warehouse safety condition say approach google comcast huawei tim bray work amazon five year add not look job currently bray state no agenda behind write blog post claim blogger',\n",
              "       'indians evacuate abroad download aarogya setu app govt indians strand abroad bring back special flight download aarogya setu mobile app upon arrival say ministry home affairs mha tuesday everyone bring back undergo medical checkup say mha joint secretary punya salila srivastava concerned state shall ensure day quarantine passenger add',\n",
              "       'wish good vibe second half musk amid covid pandemic tesla billionaire ceo elon musk recently welcome baby boy canadian singer girlfriend grime tweet wish good vibe nd half amid coronavirus pandemic let us see see person respond tweet earlier grime take twitter explain newborn name x',\n",
              "       'fault samsung heir apologise corruption not hand firm kid samsung group heir jay lee apologise corruption scandal add not hand management child fault apologise samsung not strictly comply law ethic say lee convict bribe south korea ex president support deal would give ownership samsung',\n",
              "       'billionaire elon musk qualifie million payout tesla tesla ceo elon musk qualify stock option worth million part pay package agree carmaker market value reach six month average billion musk already meet performance goal require payout year old already among world rich people billion fortune',\n",
              "       'french hacker say aarogya setu put privacy stake app dismiss claim french hacker robert baptiste tuesday alert indian authority tweet security issue find aarogya setu app put privacy million indians stake however app respond say no datum security breach identify no personal information user prove risk',\n",
              "       'google india website inform people coronavirus relate online scam google india launch new website wednesday include detail covid related risk online scam website available language like marathi tamil bangla enlist information type scam use attacker include tip avoid come google announce find million phishing attempt relate covid',\n",
              "       'instagram put covid story credible source top instagram announce put covidrelated story credible organisation top user tray part ongoing work connect people accurate information instagram say add similar feature roll user feed next week',\n",
              "       'france accuse apple refuse help covid tracking app france accuse apple not help make iphone compatible covid tracking app stopcovid france ask apple change bluetooth setting run background constantly since app use interact nearby device detection french minister cedric say apple refuse change setting',\n",
              "       'whatsapp message free internet till may fake govt government clarify whatsapp message claim mobile company announce provide free internet due national lockdown till may false add link message free recharge fake government clarify department telecommunications not make announcement',\n",
              "       'pfizer conduct human trial experimental covid vaccine us pharmaceutical company pfizer announce begin test experimental covid vaccine human us say first participant potential vaccine bnt develop along germany base biontech se dose begin human trial germany last week trial first test potential vaccine adult age year us',\n",
              "       'whatsapp chatbot combat covid misinformation launch international fact check network launch whatsapp chatbot combat covid misinformation bot help user gain access datum collect fact check network country compile fact check language ifcn say user save contact number text hi launch chatbot',\n",
              "       'chhattisgarh launch website app home delivery liquor green zone chhattisgarh launch online website app home delivery liquor green zone avoid massive crowd shop portal name state run csmcl chhattisgarh state marketing corporation limit notably many liquor shop across delhi mumbai shut hour opening large crowd gather outside outlet violate social distancing rule',\n",
              "       'aarogya setu app download crore people govt group minister gom covid inform government official aarogya setu application download close crore user may performance impact benefit aarogya setu also discuss th meeting gom earlier government make app mandatory public private sector employee',\n",
              "       'apple google show sample covid exposure notification system apple google publish sample user interface screenshot exposure notification system could work sample show app likely work user diagnose covid positive also present exposure notification regard expose someone covid could look like',\n",
              "       'aarogya setu absolutely robust term privacy protection prasad union minister ravi shankar prasad say aarogya setu app absolutely robust term privacy protection safety security datum add user datum app stay limited period routine data remain day event infect day add',\n",
              "       'govt back hacker targette covid research datum warn us uk government back hacker try infiltrate healthcare research institution get access sensitive datum covid research researcher britain us say joint statement say hacker also try get intelligence national international healthcare policy last week cybersecurity firm warn india covid datum may threat',\n",
              "       'google launch ai base tool help scientist access covid research google launch covid research explorer semantic search interface help scientist researcher access information relate covid tool use artificial intelligence surface meaningful result look journal article preprint covid open research dataset also highlight possible answer user question material',\n",
              "       'whatsapp text google form strand indians fake govt government clarify whatsapp message link google form title rescue flight india strand indians fake say government not issue form also advise people not click give link register official embassy website',\n",
              "       'iran state broadcaster influence scottish referendum facebook iran state broadcaster use fake social medium account influence result scottish independence referendum facebook report say iranian network account post pro leave content per social network analysis company facebook take eight network include one link islamic republic iran broadcasting corporation inauthentic behaviour',\n",
              "       'apple hold virtual worldwide developer conference june apple announce host annual worldwide developer conference virtually start june apple developer app website free developer also announce swift student challenge student developer submit code work additional wwdc program information include keynote session share june app website',\n",
              "       'twitt let user revise publish harmful reply twitter announce run limited experiment reply platform let user revise possibly harmful reply publish say prompt user rethink reply prompt show user reply use language could harmful',\n",
              "       'english cricket could lose crore entire season wipe ecb english cricket could lose much crore entire season wipe due coronavirus pandemic ecb chief executive tom harrison say would loss day cricket across professional club ecb well add project loss take account international well domestic game',\n",
              "       'many backstabbe yuvraj include virat dhoni father yograj singh ex india rounder yuvraj singh father yograj singh say many people include virat kohli ms dhoni backstabbe son say even selector betray yuvraj singh add sarandeep singh use go meeting ask yuvraj drop everybody worry would happen yuvraj continue perform yograj state',\n",
              "       'run around km week destroy body knee tiger wood ask thing could go back time tell young self golfer tiger wood say not run much add run mile around km week probably first year tour destroy body knee wood win major championship turn',\n",
              "       'wicket may celebrate namaste coronavirus pandemic rahane india batsman ajinkya rahane say wicket may celebrate namaste coronavirus pandemic stay place like old time not need run boundary namaste not take anything grant add not cricket think general lifestyle impact say',\n",
              "       'footballer find alive year pronounce dead ex wife probe fraud former schalke defender hiannick kamba find alive four year pronounce dead car accident january year old congolese state companion leave trip congo take paper money telephone kamba ex wife investigate insurance fraud',\n",
              "       'people think jealous nothing like harbhajan ashwin veteran spinner harbhajan singh instagram live chat ravichandran ashwin say not jealous latter lot people think jealous think whatever want add say want say good spinner presently play game',\n",
              "       'no crowd match not take away competitive edge stoke england rounder ben stokes say play cricket empty stadium not take away competitive edge game walk represent country get three lion chest whether front nobody full crowd not think go take competitive side away state',\n",
              "       'would devastating india not tour australia labuschagne australia batsman marnus labuschagne say india tour australia schedule begin october cancel would pretty devastating would mean not play cricket even towards year end hopefully actually get india add india australia play four test three odis three ti',\n",
              "       'la liga begin test player covid resume training spanish league la liga feature lionel messi start test player coronavirus week training expect begin later week come spanish government ease lockdown measure accord report player not allow interact initial training session',\n",
              "       'sports ministry invite nomination national sport award e mail sports ministry tuesday invite nomination year national sport award e mail amid coronavirus lockdown hard copy nomination not require send read ministry circular nomination invite rajiv gandhi khel ratna arjuna dronacharya dhyan chand rashtriya khel protsahan puraskar award',\n",
              "       'woman hockey team raise lakh relief effort fitness challenge indian woman hockey team raise lakh day fitness challenge coronavirus relief effort challenge involve player give new fitness task day social medium urge people donate response receive really overwhelming would like thank everyone take part say captain rani rampal',\n",
              "       'covid impact serious unless cricket resume empty stadium bacher former south africa captain administrator ali bacher say consequence coronavirus serious world cricket unless match allow play empty stadium medical expert predict pandemic last month state global tv audience would not diminish [ cricket resume behind closed door ] add',\n",
              "       'want ipl happen work mccullum morgan karthik kolkata knight riders captain dinesh karthik say want ipl happen able work brendon mccullum eoin morgan two people genuinely want rub shoulder learn much two state kkr buy england limited skipper morgan auction',\n",
              "       'djokovic share video play tennis court despite lockdown world number one novak djokovic share video play tennis court spain despite coronavirus lockdown spanish government allow professional athlete return practice sport facility reportedly open next week spanish tennis federation monday say player not allow train tennis court',\n",
              "       'see practically lose tennis world no nadal world number two time grand slam champion rafael nadal say practically lose tennis feeling say sadness lose year life state due coronavirus pandemic french open postpone september wimbledon cancel',\n",
              "       'make limited game play wc morgan england limited captain eoin morgan say make limited number game play world cup take place schedule england play ti series australia schedule begin july pakistan begin august world cup',\n",
              "       'ecb terminate player contract hundred season postpone england wales cricket board ecb cancel contract player due take part inaugural edition hundred postpone coronavirus pandemic new ball tournament schedule hold july august ecb suspend cricket event till july',\n",
              "       'neymar ready take pay cut move barcelona report neymar reportedly ready take wage cut secure move ligue side paris saint germain former club barcelona spanish league la liga accord report neymar currently earn crore week willing reduce crore week neymar move psg',\n",
              "       'mi play role setup csk faith player ability rayudu ambati rayudu play chennai super king mumbai indians ipl pick former favourite team csk lot faith player ability mi play role kind setup say rayudu even play india not see fan base [ play csk ] add',\n",
              "       'ball hashim amla ashwin reveal good moment cricket online interaction ravichandran ashwin say delivery former south africa batsman hashim amla world semifinal good moment cricket far ex australia batsman adam gilchrist term delivery ball century ashwin reveal champion trophy win good odi moment',\n",
              "       'dhoni big idol mine great lesson watch ipl buttler england wicketkeeper batsman jos buttler reveal former india skipper ms dhoni always big idol buttler add great lesson watch dhoni ipl see first hand manage different thing crunch moment chaos always go around dhoni people want bit state',\n",
              "       'extremely motivated play three format faf du plessis faf du plessis step south africa skipper across format earlier year say extremely motivated keen play three format always miss [ captain sa ] think time come move add plessis captain test odi tis',\n",
              "       'chahal good bowler use crease better mushtaq ahmed former pakistan leg spinner mushtaq ahmed term india leg spinner yuzvendra chahal good spinner add use crease better go wide crease time get smart enough understand pitch mushtaq add chahal currently wicket odi wicket ti match',\n",
              "       'kohli extremely fit play till age ex player deep dasgupta former india wicketkeeper batsman deep dasgupta call virat kohli extremely fit say india skipper play till age get structure mentally physically propel play till early physical side mental side state dasgupta',\n",
              "       'naseem shah replicate bowling attitude passion shoaib akhtar ex pakistan pacer shoaib akhtar say pakistan fast bowler naseem shah replicate bowling attitude passion naseem would make fine pair attacking attitude akhtar state year old young pacer take five wicket haul test also young year test history pick hat trick',\n",
              "       'health worker infect covid worldwide icn international council nurses icn wednesday say least healthcare worker believe infect covid globally virus kill nurse worldwide icn add still underestimation not cover every country world icn chief executive officer howard catton say',\n",
              "       'share world israel coronavirus antibody breakthrough talk israel isolate key coronavirus antibody significant breakthrough israel ambassador india ron malka say await detail process not finalise add advanced stage yes course share world coronavirus crisis bring india israel closer say',\n",
              "       'rahul dev become first hindu join pakistan air force pakistani youth rahul dev become first hindu join pakistan air force paf recruit general duty pilot officer hail tharparkar district pakistan sindh province though dev exact age not know induct paf level often around news agency pti say',\n",
              "       'covid researcher shoot death apparent murder suicide us bing liu university pittsburgh professor shoot kill apparent murder suicide police say authority believe unidentified second man find dead car shoot kill liu home return car kill liu verge make significant finding coronavirus university say',\n",
              "       'taiwan ask let join world health assembly despite china objection taiwan urge world health organization allow rejoin annual decision make meeting world health assembly may despite objection china continue exclude taiwan participation political pressure china health minister chen shih chung say china allow taiwan attend wha meeting observer',\n",
              "       'no sign kim jong un heart surgery south korea spy agency no sign north korean leader kim jong un heart surgery south korean lawmaker brief spy agency say call report groundless kim normally perform duty public eye say report earlier claim us official monitor intelligence kim grave danger surgery',\n",
              "       'school wuhan city epicentre covid pandemic reopen school china wuhan city epicentre covid pandemic reopen wednesday first time shut january authority mostly allow senior school student prepare university exam attend class however locality allow junior middle school student come back school well',\n",
              "       'bdesh record big one day jump covid case total crosse k bangladesh record big daily jump number coronavirus infection take total case health official say wednesday death toll rise three people die due coronavirus total case people recover official add country conduct test far',\n",
              "       'pak report record death single day total case exceed pakistan report record death due coronavirus last hour take death toll health official say wednesday country report new infection take total per government datum patient recover punjab province worst hit case sindh province case',\n",
              "       'billion people disability among hardest hit covid un chief united nations chief antonio guterres say world one billion people disability among hardest hit covid pandemic say pandemic intensify inequality people disability already face disabled people contract covid guterre say many likely develop severe health condition may result death',\n",
              "       'us no evidence covid originate lab china chinese foreign ministry spokeswoman hua chunye say us secretary state mike pompeo not evidence support claim coronavirus originate laboratory china think matter hand scientist medical professional not politician lie domestic political end add',\n",
              "       'afghanistan could one high covid infection world un un international organization migration iom say afghanistan could one high covid infection rate world afghan official emphasize short urgent action afghanistan total population crore could infect add iom say afghanistan capable carry covid test daily',\n",
              "       'buddha message unity service imp un chief covid fight lord buddha message unity service important today humanity suffer covid pandemic un chief antonio guterres say guterre say message day vesak work together nation stop spread recover deadly coronavirus',\n",
              "       'new zealand safe advantage welcome investment pm new zealand prime minister jacinda ardern say country success curb coronavirus give safe advantage welcome investment position economy able rebuild ahead many globally add ardern say new zealand offer safe place operation health business sense',\n",
              "       'spore jails indian origin man not follow covid measure singapore sentence indian origin ravi sinathamby subramaniam seven month prison verbally abuse police safe distance enforcement officer not follow coronavirus measure repeatedly imprison past deputy public prosecutor timotheus koh say subramaniam apologise civil servant court claim act influence alcohol',\n",
              "       'netherlands begin phase easing coronavirus lockdown monday netherlands begin phase easing coronavirus lockdown nearly two month monday national broadcaster report elementary school reopen next week public transport resume normal schedule june seating capacity report add country report case coronavirus death',\n",
              "       'german govt state agree plan ease covid lockdown accord agreement germany government federal state shop reopen provide hygiene measure place part effort ease coronavirus lockdown germany bundesliga football league resume school gradually reopen summer term add however state take control time reopen agreement',\n",
              "       'russia bans online video allege covid man make bioweapon russia wednesday ban video allege covid man make bioweapon country prosecutor general office say material contain inaccurate socially significant information pose threat people life health violate public order safety add us president donald trump recently allege covid originate laboratory china',\n",
              "       'give us first hand information fight coronavirus taiwan taiwan health minister chen shih chung ask wednesday ensure island access first hand information coronavirus say speed react become faster taiwan not become gap epidemic prevention second hand information slow action take distort judgement epidemic say',\n",
              "       'iran state broadcaster influence scottish referendum facebook iran state broadcaster use fake social medium account influence result scottish independence referendum facebook report say iranian network account post pro leave content per social network analysis company facebook take eight network include one link islamic republic iran broadcasting corporation inauthentic behaviour',\n",
              "       'hong kong never calm unless violent protester remove china china hong kong affairs office wednesday say city never calm unless black clothe violent protester remove scorched earth action black clothe violent protester political virus hong kong society big enemy one country two system office say hong kong witness anti government protest demand democratic measure',\n",
              "       'sky niger capital turn red sand storm video surface sky niamey capital city niger turn red monday hit sand storm video storm surface social medium one onlooker describe kind cool kind weird kind scary another user write social medium planet earth end',\n",
              "       'afghan force deactivate joint isis haqqani network centre afghanistan intelligence agency national directorate security deactivate joint isis haqqani network centre kabul statement agency say five terrorist kill eight detain operation add agency claim joint centre carry rocket attack inauguration ceremony afghan president us military base',\n",
              "       'trump make stupid mistake exit nuclear deal rouhani us president donald trump make stupid mistake exit nuclear deal iranian president hassan rouhani say us lift sanction tehran compensate reimposition sanction want return deal rouhani add say iran give crush response arm embargo tehran extended',\n",
              "       'rocket hit near baghdad international airport iraq three rocket wednesday land perimeter baghdad international airport iraq without cause casualty damage iraqi military say search operation launch attack rocket launcher timer find western baghdad add not immediately clear whether military base next airport target security official say'],\n",
              "      dtype=object)"
            ]
          },
          "metadata": {
            "tags": []
          },
          "execution_count": 84
        }
      ]
    },
    {
      "cell_type": "code",
      "metadata": {
        "id": "hay9p_A-wSDC",
        "colab_type": "code",
        "colab": {
          "base_uri": "https://localhost:8080/",
          "height": 35
        },
        "outputId": "ac4c8424-c246-4d3e-dce6-393ed993b3a6"
      },
      "source": [
        "!pip install afinn"
      ],
      "execution_count": 85,
      "outputs": [
        {
          "output_type": "stream",
          "text": [
            "Requirement already satisfied: afinn in /usr/local/lib/python3.6/dist-packages (0.1)\n"
          ],
          "name": "stdout"
        }
      ]
    },
    {
      "cell_type": "markdown",
      "metadata": {
        "id": "-MeB4XbKqz-l",
        "colab_type": "text"
      },
      "source": [
        "# Emotion and Sentiment Analysis"
      ]
    },
    {
      "cell_type": "code",
      "metadata": {
        "id": "PiilQRY-qz-m",
        "colab_type": "code",
        "colab": {}
      },
      "source": [
        "from afinn import Afinn\n",
        "\n",
        "af = Afinn()"
      ],
      "execution_count": 0,
      "outputs": []
    },
    {
      "cell_type": "code",
      "metadata": {
        "id": "jQtrpGCzqz-q",
        "colab_type": "code",
        "colab": {}
      },
      "source": [
        "sentiment_scores = [af.score(article) for article in corpus]\n",
        "sentiment_category = ['positive' if score > 0 \n",
        "                          else 'negative' if score < 0 \n",
        "                              else 'neutral' \n",
        "                                  for score in sentiment_scores]"
      ],
      "execution_count": 0,
      "outputs": []
    },
    {
      "cell_type": "code",
      "metadata": {
        "id": "sCtmNCQuqz-t",
        "colab_type": "code",
        "colab": {
          "base_uri": "https://localhost:8080/",
          "height": 198
        },
        "outputId": "7dc154c4-bca3-442c-ec75-70e6abe54b8e"
      },
      "source": [
        "df = pd.DataFrame([list(news_df['news_category']), sentiment_scores, sentiment_category]).T\n",
        "df.columns = ['news_category', 'sentiment_score', 'sentiment_category']\n",
        "df['sentiment_score'] = df.sentiment_score.astype('float')\n",
        "df.groupby(by=['news_category']).describe()"
      ],
      "execution_count": 88,
      "outputs": [
        {
          "output_type": "execute_result",
          "data": {
            "text/html": [
              "<div>\n",
              "<style scoped>\n",
              "    .dataframe tbody tr th:only-of-type {\n",
              "        vertical-align: middle;\n",
              "    }\n",
              "\n",
              "    .dataframe tbody tr th {\n",
              "        vertical-align: top;\n",
              "    }\n",
              "\n",
              "    .dataframe thead tr th {\n",
              "        text-align: left;\n",
              "    }\n",
              "\n",
              "    .dataframe thead tr:last-of-type th {\n",
              "        text-align: right;\n",
              "    }\n",
              "</style>\n",
              "<table border=\"1\" class=\"dataframe\">\n",
              "  <thead>\n",
              "    <tr>\n",
              "      <th></th>\n",
              "      <th colspan=\"8\" halign=\"left\">sentiment_score</th>\n",
              "    </tr>\n",
              "    <tr>\n",
              "      <th></th>\n",
              "      <th>count</th>\n",
              "      <th>mean</th>\n",
              "      <th>std</th>\n",
              "      <th>min</th>\n",
              "      <th>25%</th>\n",
              "      <th>50%</th>\n",
              "      <th>75%</th>\n",
              "      <th>max</th>\n",
              "    </tr>\n",
              "    <tr>\n",
              "      <th>news_category</th>\n",
              "      <th></th>\n",
              "      <th></th>\n",
              "      <th></th>\n",
              "      <th></th>\n",
              "      <th></th>\n",
              "      <th></th>\n",
              "      <th></th>\n",
              "      <th></th>\n",
              "    </tr>\n",
              "  </thead>\n",
              "  <tbody>\n",
              "    <tr>\n",
              "      <th>sports</th>\n",
              "      <td>25.0</td>\n",
              "      <td>2.36</td>\n",
              "      <td>6.793870</td>\n",
              "      <td>-13.0</td>\n",
              "      <td>-2.0</td>\n",
              "      <td>2.0</td>\n",
              "      <td>6.0</td>\n",
              "      <td>16.0</td>\n",
              "    </tr>\n",
              "    <tr>\n",
              "      <th>technology</th>\n",
              "      <td>25.0</td>\n",
              "      <td>-1.28</td>\n",
              "      <td>5.660683</td>\n",
              "      <td>-13.0</td>\n",
              "      <td>-6.0</td>\n",
              "      <td>-2.0</td>\n",
              "      <td>3.0</td>\n",
              "      <td>10.0</td>\n",
              "    </tr>\n",
              "    <tr>\n",
              "      <th>world</th>\n",
              "      <td>25.0</td>\n",
              "      <td>-3.24</td>\n",
              "      <td>7.298858</td>\n",
              "      <td>-23.0</td>\n",
              "      <td>-7.0</td>\n",
              "      <td>-4.0</td>\n",
              "      <td>2.0</td>\n",
              "      <td>13.0</td>\n",
              "    </tr>\n",
              "  </tbody>\n",
              "</table>\n",
              "</div>"
            ],
            "text/plain": [
              "              sentiment_score                                           \n",
              "                        count  mean       std   min  25%  50%  75%   max\n",
              "news_category                                                           \n",
              "sports                   25.0  2.36  6.793870 -13.0 -2.0  2.0  6.0  16.0\n",
              "technology               25.0 -1.28  5.660683 -13.0 -6.0 -2.0  3.0  10.0\n",
              "world                    25.0 -3.24  7.298858 -23.0 -7.0 -4.0  2.0  13.0"
            ]
          },
          "metadata": {
            "tags": []
          },
          "execution_count": 88
        }
      ]
    },
    {
      "cell_type": "code",
      "metadata": {
        "id": "LXq9OpvTqz-y",
        "colab_type": "code",
        "colab": {
          "base_uri": "https://localhost:8080/",
          "height": 309
        },
        "outputId": "61f4cd02-fd60-4856-fa37-509e9c3e562a"
      },
      "source": [
        "f, (ax1, ax2) = plt.subplots(1, 2, figsize=(14, 4))\n",
        "sp = sns.stripplot(x='news_category', y=\"sentiment_score\", \n",
        "                   hue='news_category', data=df, ax=ax1)\n",
        "bp = sns.boxplot(x='news_category', y=\"sentiment_score\", \n",
        "                 hue='news_category', data=df, palette=\"Set2\", ax=ax2)\n",
        "t = f.suptitle('Visualizing News Sentiment', fontsize=14)"
      ],
      "execution_count": 89,
      "outputs": [
        {
          "output_type": "display_data",
          "data": {
            "image/png": "[encoded data removed]",
            "text/plain": [
              "<Figure size 1008x288 with 2 Axes>"
            ]
          },
          "metadata": {
            "tags": [],
            "needs_background": "light"
          }
        }
      ]
    },
    {
      "cell_type": "code",
      "metadata": {
        "id": "CuHpj73sqz-4",
        "colab_type": "code",
        "colab": {
          "base_uri": "https://localhost:8080/",
          "height": 425
        },
        "outputId": "b7eeb049-066c-483f-e060-e7f95270c93b"
      },
      "source": [
        "fc = sns.factorplot(x=\"news_category\", hue=\"sentiment_category\", \n",
        "                    data=df, kind=\"count\", \n",
        "                    palette={\"negative\": \"#FE2020\", \n",
        "                             \"positive\": \"#BADD07\", \n",
        "                             \"neutral\": \"#68BFF5\"})"
      ],
      "execution_count": 90,
      "outputs": [
        {
          "output_type": "stream",
          "text": [
            "/usr/local/lib/python3.6/dist-packages/seaborn/categorical.py:3666: UserWarning: The `factorplot` function has been renamed to `catplot`. The original name will be removed in a future release. Please update your code. Note that the default `kind` in `factorplot` (`'point'`) has changed `'strip'` in `catplot`.\n",
            "  warnings.warn(msg)\n"
          ],
          "name": "stderr"
        },
        {
          "output_type": "display_data",
          "data": {
            "image/png": "[encoded data removed]",
            "text/plain": [
              "<Figure size 467.5x360 with 1 Axes>"
            ]
          },
          "metadata": {
            "tags": [],
            "needs_background": "light"
          }
        }
      ]
    },
    {
      "cell_type": "code",
      "metadata": {
        "id": "3K_qO3JEyAdW",
        "colab_type": "code",
        "colab": {
          "base_uri": "https://localhost:8080/",
          "height": 407
        },
        "outputId": "6fa9ad70-cedd-45d7-bdb0-61a012a41d44"
      },
      "source": [
        "df"
      ],
      "execution_count": 91,
      "outputs": [
        {
          "output_type": "execute_result",
          "data": {
            "text/html": [
              "<div>\n",
              "<style scoped>\n",
              "    .dataframe tbody tr th:only-of-type {\n",
              "        vertical-align: middle;\n",
              "    }\n",
              "\n",
              "    .dataframe tbody tr th {\n",
              "        vertical-align: top;\n",
              "    }\n",
              "\n",
              "    .dataframe thead th {\n",
              "        text-align: right;\n",
              "    }\n",
              "</style>\n",
              "<table border=\"1\" class=\"dataframe\">\n",
              "  <thead>\n",
              "    <tr style=\"text-align: right;\">\n",
              "      <th></th>\n",
              "      <th>news_category</th>\n",
              "      <th>sentiment_score</th>\n",
              "      <th>sentiment_category</th>\n",
              "    </tr>\n",
              "  </thead>\n",
              "  <tbody>\n",
              "    <tr>\n",
              "      <th>0</th>\n",
              "      <td>technology</td>\n",
              "      <td>0.0</td>\n",
              "      <td>neutral</td>\n",
              "    </tr>\n",
              "    <tr>\n",
              "      <th>1</th>\n",
              "      <td>technology</td>\n",
              "      <td>-9.0</td>\n",
              "      <td>negative</td>\n",
              "    </tr>\n",
              "    <tr>\n",
              "      <th>2</th>\n",
              "      <td>technology</td>\n",
              "      <td>5.0</td>\n",
              "      <td>positive</td>\n",
              "    </tr>\n",
              "    <tr>\n",
              "      <th>3</th>\n",
              "      <td>technology</td>\n",
              "      <td>-6.0</td>\n",
              "      <td>negative</td>\n",
              "    </tr>\n",
              "    <tr>\n",
              "      <th>4</th>\n",
              "      <td>technology</td>\n",
              "      <td>-2.0</td>\n",
              "      <td>negative</td>\n",
              "    </tr>\n",
              "    <tr>\n",
              "      <th>...</th>\n",
              "      <td>...</td>\n",
              "      <td>...</td>\n",
              "      <td>...</td>\n",
              "    </tr>\n",
              "    <tr>\n",
              "      <th>70</th>\n",
              "      <td>world</td>\n",
              "      <td>-10.0</td>\n",
              "      <td>negative</td>\n",
              "    </tr>\n",
              "    <tr>\n",
              "      <th>71</th>\n",
              "      <td>world</td>\n",
              "      <td>3.0</td>\n",
              "      <td>positive</td>\n",
              "    </tr>\n",
              "    <tr>\n",
              "      <th>72</th>\n",
              "      <td>world</td>\n",
              "      <td>-8.0</td>\n",
              "      <td>negative</td>\n",
              "    </tr>\n",
              "    <tr>\n",
              "      <th>73</th>\n",
              "      <td>world</td>\n",
              "      <td>-8.0</td>\n",
              "      <td>negative</td>\n",
              "    </tr>\n",
              "    <tr>\n",
              "      <th>74</th>\n",
              "      <td>world</td>\n",
              "      <td>-5.0</td>\n",
              "      <td>negative</td>\n",
              "    </tr>\n",
              "  </tbody>\n",
              "</table>\n",
              "<p>75 rows × 3 columns</p>\n",
              "</div>"
            ],
            "text/plain": [
              "   news_category  sentiment_score sentiment_category\n",
              "0     technology              0.0            neutral\n",
              "1     technology             -9.0           negative\n",
              "2     technology              5.0           positive\n",
              "3     technology             -6.0           negative\n",
              "4     technology             -2.0           negative\n",
              "..           ...              ...                ...\n",
              "70         world            -10.0           negative\n",
              "71         world              3.0           positive\n",
              "72         world             -8.0           negative\n",
              "73         world             -8.0           negative\n",
              "74         world             -5.0           negative\n",
              "\n",
              "[75 rows x 3 columns]"
            ]
          },
          "metadata": {
            "tags": []
          },
          "execution_count": 91
        }
      ]
    },
    {
      "cell_type": "code",
      "metadata": {
        "id": "G3oem1Uoqz_E",
        "colab_type": "code",
        "colab": {
          "base_uri": "https://localhost:8080/",
          "height": 128
        },
        "outputId": "a69dec91-f090-41ba-d229-dd1ef5107edd"
      },
      "source": [
        "pos_idx = df[(df.news_category=='technology') & (df.sentiment_score == 3)].index[0]\n",
        "neg_idx = df[(df.news_category=='technology') & (df.sentiment_score == -13)].index[0]\n",
        "\n",
        "print('Most Negative Tech News Article:', news_df.iloc[neg_idx][['news_article']][0])\n",
        "print()\n",
        "print('Most Positive Tech News Article:', news_df.iloc[pos_idx][['news_article']][0])"
      ],
      "execution_count": 93,
      "outputs": [
        {
          "output_type": "stream",
          "text": [
            "Most Negative Tech News Article: Samsung Group heir Jay Y Lee has apologised for a corruption scandal, adding he won't hand over the management to his children. \"This is my fault. I apologise. Samsung hasn't strictly complied with laws and ethics,\" he said. Lee was convicted in 2017 for bribing South Korea's ex-President to support a deal that would give him more ownership of Samsung.\n",
            "\n",
            "\n",
            "\n",
            "Most Positive Tech News Article: Apple and Google have published sample user interface screenshots of how their exposure notification system could work. The samples showed how the apps will likely work when a user is diagnosed as COVID-19 positive. They also presented what an exposure notification regarding being exposed to someone with COVID-19 could look like.\n"
          ],
          "name": "stdout"
        }
      ]
    },
    {
      "cell_type": "code",
      "metadata": {
        "id": "-425IHpyqz_J",
        "colab_type": "code",
        "colab": {
          "base_uri": "https://localhost:8080/",
          "height": 92
        },
        "outputId": "4d2acd96-f827-4942-d137-2fc7a3506e2b"
      },
      "source": [
        "pos_idx = df[(df.news_category=='world') & (df.sentiment_score == 13)].index[0]\n",
        "neg_idx = df[(df.news_category=='world') & (df.sentiment_score == -23)].index[0]\n",
        "\n",
        "print('Most Negative World News Article:', news_df.iloc[neg_idx][['news_article']][0])\n",
        "print()\n",
        "print('Most Positive World News Article:', news_df.iloc[pos_idx][['news_article']][0])"
      ],
      "execution_count": 95,
      "outputs": [
        {
          "output_type": "stream",
          "text": [
            "Most Negative World News Article: Bing Liu, a University of Pittsburgh professor was shot and killed in an apparent murder-suicide, police said. Authorities believe an unidentified second man, who was found dead in his car, shot and killed Liu in his home before returning to his car and killing himself. Liu was on the verge of making \"very significant findings\" about coronavirus, the university said.\n",
            "\n",
            "Most Positive World News Article: New Zealand Prime Minister Jacinda Ardern said that the country's success in curbing coronavirus has given it a \"safe haven advantage\" to welcome investments. \"We have positioned our economy to be able to rebuild ahead of many others globally,\" she added. Ardern further said that New Zealand offers a safe place for operations in both the health and business sense.\n"
          ],
          "name": "stdout"
        }
      ]
    },
    {
      "cell_type": "code",
      "metadata": {
        "id": "D9tdx_v1qz_T",
        "colab_type": "code",
        "colab": {}
      },
      "source": [
        "from textblob import TextBlob\n",
        "\n",
        "sentiment_scores_tb = [round(TextBlob(article).sentiment.polarity, 3) for article in news_df['clean_text']]\n",
        "sentiment_category_tb = ['positive' if score > 0 \n",
        "                             else 'negative' if score < 0 \n",
        "                                 else 'neutral' \n",
        "                                     for score in sentiment_scores_tb]"
      ],
      "execution_count": 0,
      "outputs": []
    },
    {
      "cell_type": "code",
      "metadata": {
        "id": "S43fbryMqz_Y",
        "colab_type": "code",
        "colab": {
          "base_uri": "https://localhost:8080/",
          "height": 198
        },
        "outputId": "26400a66-5843-4bb6-d2f2-89f2959d3c2e"
      },
      "source": [
        "df = pd.DataFrame([list(news_df['news_category']), sentiment_scores_tb, sentiment_category_tb]).T\n",
        "df.columns = ['news_category', 'sentiment_score', 'sentiment_category']\n",
        "df['sentiment_score'] = df.sentiment_score.astype('float')\n",
        "df.groupby(by=['news_category']).describe()"
      ],
      "execution_count": 97,
      "outputs": [
        {
          "output_type": "execute_result",
          "data": {
            "text/html": [
              "<div>\n",
              "<style scoped>\n",
              "    .dataframe tbody tr th:only-of-type {\n",
              "        vertical-align: middle;\n",
              "    }\n",
              "\n",
              "    .dataframe tbody tr th {\n",
              "        vertical-align: top;\n",
              "    }\n",
              "\n",
              "    .dataframe thead tr th {\n",
              "        text-align: left;\n",
              "    }\n",
              "\n",
              "    .dataframe thead tr:last-of-type th {\n",
              "        text-align: right;\n",
              "    }\n",
              "</style>\n",
              "<table border=\"1\" class=\"dataframe\">\n",
              "  <thead>\n",
              "    <tr>\n",
              "      <th></th>\n",
              "      <th colspan=\"8\" halign=\"left\">sentiment_score</th>\n",
              "    </tr>\n",
              "    <tr>\n",
              "      <th></th>\n",
              "      <th>count</th>\n",
              "      <th>mean</th>\n",
              "      <th>std</th>\n",
              "      <th>min</th>\n",
              "      <th>25%</th>\n",
              "      <th>50%</th>\n",
              "      <th>75%</th>\n",
              "      <th>max</th>\n",
              "    </tr>\n",
              "    <tr>\n",
              "      <th>news_category</th>\n",
              "      <th></th>\n",
              "      <th></th>\n",
              "      <th></th>\n",
              "      <th></th>\n",
              "      <th></th>\n",
              "      <th></th>\n",
              "      <th></th>\n",
              "      <th></th>\n",
              "    </tr>\n",
              "  </thead>\n",
              "  <tbody>\n",
              "    <tr>\n",
              "      <th>sports</th>\n",
              "      <td>25.0</td>\n",
              "      <td>0.06628</td>\n",
              "      <td>0.212131</td>\n",
              "      <td>-0.412</td>\n",
              "      <td>-0.022</td>\n",
              "      <td>0.073</td>\n",
              "      <td>0.183</td>\n",
              "      <td>0.500</td>\n",
              "    </tr>\n",
              "    <tr>\n",
              "      <th>technology</th>\n",
              "      <td>25.0</td>\n",
              "      <td>-0.01608</td>\n",
              "      <td>0.210870</td>\n",
              "      <td>-0.500</td>\n",
              "      <td>-0.144</td>\n",
              "      <td>0.000</td>\n",
              "      <td>0.089</td>\n",
              "      <td>0.400</td>\n",
              "    </tr>\n",
              "    <tr>\n",
              "      <th>world</th>\n",
              "      <td>25.0</td>\n",
              "      <td>-0.00544</td>\n",
              "      <td>0.239007</td>\n",
              "      <td>-0.800</td>\n",
              "      <td>-0.089</td>\n",
              "      <td>0.055</td>\n",
              "      <td>0.106</td>\n",
              "      <td>0.401</td>\n",
              "    </tr>\n",
              "  </tbody>\n",
              "</table>\n",
              "</div>"
            ],
            "text/plain": [
              "              sentiment_score                     ...                     \n",
              "                        count     mean       std  ...    50%    75%    max\n",
              "news_category                                     ...                     \n",
              "sports                   25.0  0.06628  0.212131  ...  0.073  0.183  0.500\n",
              "technology               25.0 -0.01608  0.210870  ...  0.000  0.089  0.400\n",
              "world                    25.0 -0.00544  0.239007  ...  0.055  0.106  0.401\n",
              "\n",
              "[3 rows x 8 columns]"
            ]
          },
          "metadata": {
            "tags": []
          },
          "execution_count": 97
        }
      ]
    },
    {
      "cell_type": "code",
      "metadata": {
        "id": "V-PIumnQqz_d",
        "colab_type": "code",
        "colab": {
          "base_uri": "https://localhost:8080/",
          "height": 198
        },
        "outputId": "4411c215-cd3b-4bde-eb3d-32f3a11a5f3c"
      },
      "source": [
        "df.head()"
      ],
      "execution_count": 98,
      "outputs": [
        {
          "output_type": "execute_result",
          "data": {
            "text/html": [
              "<div>\n",
              "<style scoped>\n",
              "    .dataframe tbody tr th:only-of-type {\n",
              "        vertical-align: middle;\n",
              "    }\n",
              "\n",
              "    .dataframe tbody tr th {\n",
              "        vertical-align: top;\n",
              "    }\n",
              "\n",
              "    .dataframe thead th {\n",
              "        text-align: right;\n",
              "    }\n",
              "</style>\n",
              "<table border=\"1\" class=\"dataframe\">\n",
              "  <thead>\n",
              "    <tr style=\"text-align: right;\">\n",
              "      <th></th>\n",
              "      <th>news_category</th>\n",
              "      <th>sentiment_score</th>\n",
              "      <th>sentiment_category</th>\n",
              "    </tr>\n",
              "  </thead>\n",
              "  <tbody>\n",
              "    <tr>\n",
              "      <th>0</th>\n",
              "      <td>technology</td>\n",
              "      <td>-0.408</td>\n",
              "      <td>negative</td>\n",
              "    </tr>\n",
              "    <tr>\n",
              "      <th>1</th>\n",
              "      <td>technology</td>\n",
              "      <td>-0.325</td>\n",
              "      <td>negative</td>\n",
              "    </tr>\n",
              "    <tr>\n",
              "      <th>2</th>\n",
              "      <td>technology</td>\n",
              "      <td>0.013</td>\n",
              "      <td>positive</td>\n",
              "    </tr>\n",
              "    <tr>\n",
              "      <th>3</th>\n",
              "      <td>technology</td>\n",
              "      <td>-0.200</td>\n",
              "      <td>negative</td>\n",
              "    </tr>\n",
              "    <tr>\n",
              "      <th>4</th>\n",
              "      <td>technology</td>\n",
              "      <td>0.089</td>\n",
              "      <td>positive</td>\n",
              "    </tr>\n",
              "  </tbody>\n",
              "</table>\n",
              "</div>"
            ],
            "text/plain": [
              "  news_category  sentiment_score sentiment_category\n",
              "0    technology           -0.408           negative\n",
              "1    technology           -0.325           negative\n",
              "2    technology            0.013           positive\n",
              "3    technology           -0.200           negative\n",
              "4    technology            0.089           positive"
            ]
          },
          "metadata": {
            "tags": []
          },
          "execution_count": 98
        }
      ]
    },
    {
      "cell_type": "code",
      "metadata": {
        "id": "SVkEMHUPqz_i",
        "colab_type": "code",
        "colab": {
          "base_uri": "https://localhost:8080/",
          "height": 425
        },
        "outputId": "ca177db5-2660-48bc-bf3a-4c3e15d80055"
      },
      "source": [
        "fc = sns.factorplot(x=\"news_category\", hue=\"sentiment_category\", \n",
        "                    data=df, kind=\"count\", \n",
        "                    palette={\"negative\": \"#FE2020\", \n",
        "                             \"positive\": \"#BADD07\", \n",
        "                             \"neutral\": \"#68BFF5\"})"
      ],
      "execution_count": 99,
      "outputs": [
        {
          "output_type": "stream",
          "text": [
            "/usr/local/lib/python3.6/dist-packages/seaborn/categorical.py:3666: UserWarning: The `factorplot` function has been renamed to `catplot`. The original name will be removed in a future release. Please update your code. Note that the default `kind` in `factorplot` (`'point'`) has changed `'strip'` in `catplot`.\n",
            "  warnings.warn(msg)\n"
          ],
          "name": "stderr"
        },
        {
          "output_type": "display_data",
          "data": {
            "image/png": "[encoded data removed]",
            "text/plain": [
              "<Figure size 467.5x360 with 1 Axes>"
            ]
          },
          "metadata": {
            "tags": [],
            "needs_background": "light"
          }
        }
      ]
    },
    {
      "cell_type": "code",
      "metadata": {
        "id": "pWx6dKIVqz_o",
        "colab_type": "code",
        "colab": {
          "base_uri": "https://localhost:8080/",
          "height": 92
        },
        "outputId": "e8efb2f8-3eea-484b-8078-6a3f3ddf943e"
      },
      "source": [
        "pos_idx = df[(df.news_category=='world') & (df.sentiment_score == 0.401)].index[0]\n",
        "neg_idx = df[(df.news_category=='world') & (df.sentiment_score == -0.800)].index[0]\n",
        "\n",
        "print('Most Negative World News Article:', news_df.iloc[neg_idx][['news_article']][0])\n",
        "print()\n",
        "print('Most Positive World News Article:', news_df.iloc[pos_idx][['news_article']][0])"
      ],
      "execution_count": 101,
      "outputs": [
        {
          "output_type": "stream",
          "text": [
            "Most Negative World News Article: US President Donald Trump \"made a stupid mistake by exiting from the nuclear deal\", Iranian President Hassan Rouhani said. The US should lift all sanctions on Tehran and compensate for reimposition of sanctions if it wants to return to the deal, Rouhani added. Further, he said, \"Iran will give a crushing response if the arms embargo on Tehran is extended.\"\n",
            "\n",
            "Most Positive World News Article: New Zealand Prime Minister Jacinda Ardern said that the country's success in curbing coronavirus has given it a \"safe haven advantage\" to welcome investments. \"We have positioned our economy to be able to rebuild ahead of many others globally,\" she added. Ardern further said that New Zealand offers a safe place for operations in both the health and business sense.\n"
          ],
          "name": "stdout"
        }
      ]
    },
    {
      "cell_type": "code",
      "metadata": {
        "id": "5ZS5GcXw0YOp",
        "colab_type": "code",
        "colab": {
          "base_uri": "https://localhost:8080/",
          "height": 54
        },
        "outputId": "8200b980-479e-4bc4-ee51-42841a811fdd"
      },
      "source": [
        "!pip install model_evaluation_utils"
      ],
      "execution_count": 102,
      "outputs": [
        {
          "output_type": "stream",
          "text": [
            "\u001b[31mERROR: Could not find a version that satisfies the requirement model_evaluation_utils (from versions: none)\u001b[0m\n",
            "\u001b[31mERROR: No matching distribution found for model_evaluation_utils\u001b[0m\n"
          ],
          "name": "stdout"
        }
      ]
    },
    {
      "cell_type": "code",
      "metadata": {
        "id": "Vk32bPj3qz_u",
        "colab_type": "code",
        "colab": {
          "base_uri": "https://localhost:8080/",
          "height": 72
        },
        "outputId": "f8e73c5e-d253-4dce-c4fe-d28812c12279"
      },
      "source": [
        "from sklearn.metrics import confusion_matrix as meu\n",
        "meu(sentiment_category,sentiment_category_tb,['negative', 'neutral', 'positive'])"
      ],
      "execution_count": 104,
      "outputs": [
        {
          "output_type": "execute_result",
          "data": {
            "text/plain": [
              "array([[21,  2, 16],\n",
              "       [ 1,  2,  0],\n",
              "       [ 5,  4, 24]])"
            ]
          },
          "metadata": {
            "tags": []
          },
          "execution_count": 104
        }
      ]
    },
    {
      "cell_type": "code",
      "metadata": {
        "id": "_xxcFt9Ryp3w",
        "colab_type": "code",
        "colab": {}
      },
      "source": [
        ""
      ],
      "execution_count": 0,
      "outputs": []
    }
  ]
}